{
  "nbformat": 4,
  "nbformat_minor": 0,
  "metadata": {
    "colab": {
      "provenance": []
    },
    "kernelspec": {
      "name": "python3",
      "display_name": "Python 3"
    },
    "language_info": {
      "name": "python"
    }
  },
  "cells": [
    {
      "cell_type": "code",
      "execution_count": null,
      "metadata": {
        "id": "M9938ZtOfKhL"
      },
      "outputs": [],
      "source": []
    },
    {
      "cell_type": "markdown",
      "source": [
        "Week 1: Vectors & Geometry\n",
        "\t•\tDay 1–2: Vectors and spaces → Intro to vectors\n",
        "\t•\tDay 3–4: Linear combinations and span\n",
        "\t•\tDay 5: Subspaces and the basis\n",
        "\t•\tDay 6: Matrix as a transformation\n",
        "\n",
        "⸻\n",
        "\n",
        "Week 2: Matrices & Systems\n",
        "\t•\tDay 8–9: Matrix multiplication & inverses\n",
        "\t•\tDay 10–11: Solving linear systems\n",
        "\t•\tDay 12–13: Column space, row space, rank\n",
        "\n",
        "⸻\n",
        "\n",
        "Week 3: Determinants & Eigenstuff\n",
        "\t•\tDay 15–16: Determinants\n",
        "\t•\tDay 17–18: Eigenvalues & eigenvectors\n",
        "\t•\tDay 19–20: Orthogonality\n",
        "\n",
        "⸻\n",
        "\n",
        "Week 4: Applications & Synthesis\n",
        "\t•\tDay 22: Least-squares\n",
        "\t•\tDay 23–24: Change of basis\n",
        "\t•\tDay 25–26: Matrix transformations (applications)"
      ],
      "metadata": {
        "id": "k_e3LtQafMNE"
      }
    },
    {
      "cell_type": "markdown",
      "source": [
        "Week 1: Vectors & Geometry\n",
        "\t•\tDay 1: Intro to vectors — Colab Notebook\n",
        "\t•\tDay 2: Dot product & angles — Colab Notebook\n",
        "\t•\tDay 3: Linear combinations & span — Colab Notebook\n",
        "\t•\tDay 4: Linear independence — Colab Notebook\n",
        "\t•\tDay 5: Subspaces & basis — Colab Notebook\n",
        "\t•\tDay 6: Matrices as transformations — Colab Notebook\n",
        "\t•\tDay 7: Review & mini‑quiz — Colab Notebook\n",
        "\n",
        "Week 2: Matrices & Systems\n",
        "\t•\tDay 8: Matrix multiplication — Colab Notebook\n",
        "\t•\tDay 9: Identity & inverses — Colab Notebook\n",
        "\t•\tDay 10: Systems as Ax=b — Colab Notebook\n",
        "\t•\tDay 11: Gaussian elimination — Colab Notebook\n",
        "\t•\tDay 12: Rank & null space — Colab Notebook\n",
        "\t•\tDay 13: Column & row space — Colab Notebook\n",
        "\t•\tDay 14: Review & quiz — Colab Notebook\n",
        "\n",
        "Week 3: Determinants & Eigenstuff\n",
        "\t•\tDay 15: Determinants — Colab Notebook\n",
        "\t•\tDay 16: Det properties — Colab Notebook\n",
        "\t•\tDay 17: Eigenvalues & eigenvectors — Colab Notebook\n",
        "\t•\tDay 18: Diagonalization — Colab Notebook\n",
        "\t•\tDay 19: Orthogonality & projections — Colab Notebook\n",
        "\t•\tDay 20: Orthogonal matrices — Colab Notebook\n",
        "\t•\tDay 21: Review & practice — Colab Notebook\n",
        "\n",
        "Week 4: Applications & Synthesis\n",
        "\t•\tDay 22: Least squares — Colab Notebook\n",
        "\t•\tDay 23: SVD intro — Colab Notebook\n",
        "\t•\tDay 24: Change of basis — Colab Notebook\n",
        "\t•\tDay 25: Linear transformations (deep dive) — Colab Notebook\n",
        "\t•\tDay 26: Applications: PCA/data compression — Colab Notebook\n",
        "\t•\tDay 27: Proof practice — Colab Notebook\n",
        "\t•\tDay 28: Mixed problem set — Colab Notebook\n",
        "\t•\tDay 29: Mock final — Colab Notebook\n",
        "\t•\tDay 30: Wrap‑up & next steps — Colab Notebook"
      ],
      "metadata": {
        "id": "Pz9HaK8jfQRe"
      }
    },
    {
      "cell_type": "markdown",
      "source": [
        "Day 0"
      ],
      "metadata": {
        "id": "DvA_7Z3MfZGz"
      }
    },
    {
      "cell_type": "code",
      "source": [
        "# Day 0: Setup & Refresh\n",
        "\n",
        "# --- PART A: Python & Colab basics ---\n",
        "# Run this cell to make sure everything works:\n",
        "print(\"Hello, Linear Algebra!\")\n",
        "\n",
        "# --- PART B: NumPy basics ---\n",
        "import numpy as np\n",
        "\n",
        "# Create vectors\n",
        "v = np.array([1, 2, 3])\n",
        "w = np.array([4, 5, 6])\n",
        "\n",
        "# Vector addition\n",
        "print(\"v + w =\", v + w)\n",
        "\n",
        "# Dot product\n",
        "print(\"v · w =\", np.dot(v, w))\n",
        "\n",
        "# Matrix creation\n",
        "A = np.array([[1, 2], [3, 4]])\n",
        "print(\"Matrix A:\\n\", A)\n",
        "\n",
        "# --- PART C: Quick Algebra refresher ---\n",
        "# Solve 2x + 3 = 11\n",
        "x = (11 - 3) / 2\n",
        "print(\"x =\", x)"
      ],
      "metadata": {
        "id": "a2pod9URftdB"
      },
      "execution_count": null,
      "outputs": []
    },
    {
      "cell_type": "markdown",
      "source": [
        "Reflection:\n",
        "\t•\tDo you feel comfortable running code in Colab?\n",
        "\t•\tWhich Python parts were new to you?"
      ],
      "metadata": {
        "id": "3Q4hBvinfvou"
      }
    },
    {
      "cell_type": "markdown",
      "source": [
        "DAY 1 NOTEBOOK (Vectors & Operations)"
      ],
      "metadata": {
        "id": "E90UN9VCfzvp"
      }
    },
    {
      "cell_type": "code",
      "source": [
        "# Day 1: Vectors & Operations\n",
        "\n",
        "import numpy as np\n",
        "import matplotlib.pyplot as plt\n",
        "\n",
        "# --- PART A: Vector addition and scaling ---\n",
        "u = np.array([2, 1])\n",
        "v = np.array([-1, 3])\n",
        "\n",
        "print(\"u + v =\", u + v)\n",
        "print(\"2u =\", 2*u)\n",
        "\n",
        "# --- PART B: Plotting vectors ---\n",
        "origin = [0, 0]\n",
        "plt.quiver(*origin, u[0], u[1], angles='xy', scale_units='xy', scale=1, color='r', label='u')\n",
        "plt.quiver(*origin, v[0], v[1], angles='xy', scale_units='xy', scale=1, color='b', label='v')\n",
        "plt.xlim(-2, 4)\n",
        "plt.ylim(-1, 4)\n",
        "plt.grid()\n",
        "plt.legend()\n",
        "plt.show()\n",
        "\n",
        "# --- PART C: Your turn ---\n",
        "# 1. Create two new vectors a and b\n",
        "# 2. Compute a+b and 3b\n",
        "# 3. Plot them like above"
      ],
      "metadata": {
        "id": "44HDqIUnf5Aj"
      },
      "execution_count": null,
      "outputs": []
    },
    {
      "cell_type": "markdown",
      "source": [
        "Reflection:\n",
        "\t•\tWhat does vector addition look like geometrically?"
      ],
      "metadata": {
        "id": "pY8yI2i7gDP5"
      }
    },
    {
      "cell_type": "markdown",
      "source": [
        "DAY 2 NOTEBOOK (Dot Product & Angles)"
      ],
      "metadata": {
        "id": "SRvbphSCgGj7"
      }
    },
    {
      "cell_type": "code",
      "source": [
        "# Day 2: Dot Product & Angles\n",
        "\n",
        "import numpy as np\n",
        "import math\n",
        "\n",
        "u = np.array([3, 4])\n",
        "v = np.array([1, -1])\n",
        "\n",
        "# Dot product\n",
        "dot = np.dot(u, v)\n",
        "print(\"Dot product:\", dot)\n",
        "\n",
        "# Magnitudes\n",
        "mag_u = np.linalg.norm(u)\n",
        "mag_v = np.linalg.norm(v)\n",
        "print(\"|u| =\", mag_u, \"|v| =\", mag_v)\n",
        "\n",
        "# Angle between vectors\n",
        "cos_theta = dot / (mag_u * mag_v)\n",
        "theta = math.degrees(math.acos(cos_theta))\n",
        "print(\"Angle between u and v (degrees):\", theta)\n",
        "\n",
        "# --- Your turn ---\n",
        "# Pick two new vectors p and q\n",
        "# Compute their dot product and angle"
      ],
      "metadata": {
        "id": "BpeO-7qKgKZb"
      },
      "execution_count": null,
      "outputs": []
    },
    {
      "cell_type": "markdown",
      "source": [
        "Reflection:\n",
        "\t•\tWhen is the dot product zero? What does that mean geometrically?"
      ],
      "metadata": {
        "id": "nh1cXRAOgOQi"
      }
    },
    {
      "cell_type": "markdown",
      "source": [
        "DAY 3 NOTEBOOK (Linear Combinations & Span)"
      ],
      "metadata": {
        "id": "LnoaJpqKgbN8"
      }
    },
    {
      "cell_type": "code",
      "source": [
        "# Day 3: Linear Combinations & Span\n",
        "\n",
        "import numpy as np\n",
        "\n",
        "# Are vectors linearly dependent?\n",
        "A = np.array([[1, 2], [2, 4]])\n",
        "print(\"Rank of A:\", np.linalg.matrix_rank(A))\n",
        "\n",
        "# Solve Ax = b\n",
        "b = np.array([3, 6])\n",
        "solution = np.linalg.lstsq(A, b, rcond=None)[0]\n",
        "print(\"Solution x:\", solution)\n",
        "\n",
        "# --- Your turn ---\n",
        "# Create your own matrix B and vector c\n",
        "# Use lstsq to solve Bx = c"
      ],
      "metadata": {
        "id": "xNKVKdXJggbp"
      },
      "execution_count": null,
      "outputs": []
    },
    {
      "cell_type": "markdown",
      "source": [
        "Reflection:\n",
        "\t•\tHow can you tell if a vector lies in the span of others?\n",
        "\t•\tWhat does rank mean in this context?\n"
      ],
      "metadata": {
        "id": "GYiVm6iFguxe"
      }
    },
    {
      "cell_type": "markdown",
      "source": [
        "DAY 4 NOTEBOOK (Linear Independence)"
      ],
      "metadata": {
        "id": "hgIOEzszgv3B"
      }
    },
    {
      "cell_type": "code",
      "source": [
        "# Day 4: Linear Independence\n",
        "\n",
        "import numpy as np\n",
        "\n",
        "# --- PART A: Check independence ---\n",
        "A = np.array([[1, 2, 3],\n",
        "              [4, 5, 6],\n",
        "              [7, 8, 9]])\n",
        "\n",
        "rank_A = np.linalg.matrix_rank(A)\n",
        "print(\"Rank of A:\", rank_A)\n",
        "print(\"Columns in A:\", A.shape[1])\n",
        "\n",
        "if rank_A == A.shape[1]:\n",
        "    print(\"Columns are linearly independent.\")\n",
        "else:\n",
        "    print(\"Columns are linearly dependent.\")\n",
        "\n",
        "# --- PART B: Your turn ---\n",
        "# Create a new 3x3 matrix B\n",
        "# Check its rank and decide if its columns are independent"
      ],
      "metadata": {
        "id": "KzFAf-h3g1RU"
      },
      "execution_count": null,
      "outputs": []
    },
    {
      "cell_type": "markdown",
      "source": [
        "Reflection:\n",
        "\t•\tHow does rank relate to independence?\n",
        "\t•\tWhat happens if rank < number of columns?\n"
      ],
      "metadata": {
        "id": "si-7heQPg7sS"
      }
    },
    {
      "cell_type": "markdown",
      "source": [
        "DAY 5 NOTEBOOK (Subspaces & Basis)"
      ],
      "metadata": {
        "id": "DR4IbGb0hHk9"
      }
    },
    {
      "cell_type": "code",
      "source": [
        "# Day 5: Subspaces & Basis\n",
        "\n",
        "import numpy as np\n",
        "\n",
        "# --- PART A: Find basis vectors ---\n",
        "A = np.array([[1, 2],\n",
        "              [3, 6],\n",
        "              [5, 10]])\n",
        "\n",
        "print(\"Rank of A:\", np.linalg.matrix_rank(A))\n",
        "\n",
        "# Use SVD to get an orthonormal basis for column space\n",
        "U, S, Vt = np.linalg.svd(A)\n",
        "basis = U[:, :np.linalg.matrix_rank(A)]\n",
        "print(\"Basis for the column space:\\n\", basis)\n",
        "\n",
        "# --- PART B: Your turn ---\n",
        "# Make your own 3x2 matrix B\n",
        "# Find a basis for its column space using SVD"
      ],
      "metadata": {
        "id": "tnnPJe1LhT2I"
      },
      "execution_count": null,
      "outputs": []
    },
    {
      "cell_type": "markdown",
      "source": [
        "Reflection:\n",
        "\t•\tWhat does a basis mean for a subspace?\n",
        "\t•\tWhy do we care about having the “smallest set” of vectors?\n"
      ],
      "metadata": {
        "id": "jU6T-bpHhXEv"
      }
    },
    {
      "cell_type": "markdown",
      "source": [
        "DAY 6 NOTEBOOK (Matrices as Transformations)"
      ],
      "metadata": {
        "id": "anuagr59haoU"
      }
    },
    {
      "cell_type": "code",
      "source": [
        "# Day 6: Matrices as Transformations\n",
        "\n",
        "import numpy as np\n",
        "import matplotlib.pyplot as plt\n",
        "\n",
        "# --- PART A: Apply a transformation ---\n",
        "A = np.array([[0, -1],\n",
        "              [1, 0]])  # 90-degree rotation\n",
        "\n",
        "v = np.array([1, 0])\n",
        "transformed = A @ v\n",
        "\n",
        "print(\"Original v:\", v)\n",
        "print(\"Transformed Av:\", transformed)\n",
        "\n",
        "# --- PART B: Visualize ---\n",
        "origin = [0, 0]\n",
        "plt.quiver(*origin, v[0], v[1], angles='xy', scale_units='xy', scale=1, color='blue', label='v')\n",
        "plt.quiver(*origin, transformed[0], transformed[1], angles='xy', scale_units='xy', scale=1, color='red', label='Av')\n",
        "plt.xlim(-2, 2)\n",
        "plt.ylim(-2, 2)\n",
        "plt.grid()\n",
        "plt.legend()\n",
        "plt.show()\n",
        "\n",
        "# --- Your turn ---\n",
        "# Try scaling, reflection, or shear transformations"
      ],
      "metadata": {
        "id": "qeE-sdepheD1"
      },
      "execution_count": null,
      "outputs": []
    },
    {
      "cell_type": "markdown",
      "source": [
        "Reflection:\n",
        "\t•\tHow does matrix multiplication change vectors?\n",
        "\t•\tWhat happens to length & direction under this transformation?\n"
      ],
      "metadata": {
        "id": "E7A7EEZxhg95"
      }
    },
    {
      "cell_type": "markdown",
      "source": [
        "DAY 7 NOTEBOOK (Review & Mini‑Quiz)"
      ],
      "metadata": {
        "id": "kXiUdhVDhkQo"
      }
    },
    {
      "cell_type": "code",
      "source": [
        "# Day 7: Week 1 Review\n",
        "\n",
        "import numpy as np\n",
        "\n",
        "# --- PART A: Quick questions ---\n",
        "# 1. Add these vectors:\n",
        "u = np.array([2, -1])\n",
        "v = np.array([-3, 4])\n",
        "print(\"u+v =\", u+v)\n",
        "\n",
        "# 2. Compute dot product and angle:\n",
        "a = np.array([1, 2])\n",
        "b = np.array([2, -2])\n",
        "dot = np.dot(a, b)\n",
        "angle = np.degrees(np.arccos(dot/(np.linalg.norm(a)*np.linalg.norm(b))))\n",
        "print(\"Dot product:\", dot, \"Angle:\", angle)\n",
        "\n",
        "# 3. Solve Ax=b:\n",
        "A = np.array([[1, 1],\n",
        "              [1, -1]])\n",
        "b = np.array([4, 0])\n",
        "x = np.linalg.solve(A, b)\n",
        "print(\"Solution:\", x)\n",
        "\n",
        "# --- PART B: Your turn ---\n",
        "# Create your own 2x2 system and solve it.\n",
        "# Pick two vectors and compute their angle."
      ],
      "metadata": {
        "id": "viWU7nvghpd6"
      },
      "execution_count": null,
      "outputs": []
    },
    {
      "cell_type": "markdown",
      "source": [
        "Reflection:\n",
        "\t•\tWhich concept from this week was hardest?\n",
        "\t•\tWhere do you need more practice before Week 2?"
      ],
      "metadata": {
        "id": "-qfUt-nYhsxK"
      }
    },
    {
      "cell_type": "markdown",
      "source": [],
      "metadata": {
        "id": "e5TOij7ihww8"
      }
    }
  ]
}